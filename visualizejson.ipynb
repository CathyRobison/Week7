{
 "cells": [
  {
   "cell_type": "code",
   "execution_count": 1,
   "metadata": {},
   "outputs": [],
   "source": [
    "import os\n",
    "from glob import glob\n",
    "datadirs = glob(\"structured-2018*\")"
   ]
  },
  {
   "cell_type": "code",
   "execution_count": 2,
   "metadata": {},
   "outputs": [
    {
     "data": {
      "text/plain": [
       "14"
      ]
     },
     "execution_count": 2,
     "metadata": {},
     "output_type": "execute_result"
    }
   ],
   "source": [
    "import matplotlib.pyplot as plt\n",
    "from matplotlib.backends.backend_agg import FigureCanvasAgg as FigureCanvas\n",
    "from matplotlib.figure import Figure\n",
    "import json\n",
    "maprootdir = os.path.join('..', 'week6', 'cwl-data', 'maps', 'ww2')\n",
    "\n",
    "#map_images = {\n",
    "#    'Aachen': 'aachen.png',\n",
    "#    'Ardennes Forest': 'ardennes_forest.png',\n",
    "#    'Gibraltar': 'gibraltar.png',\n",
    "#    'London Docks': 'london_docks.png',\n",
    "#    'Sainte Marie du Mont': 'sainte_marie_du_mont.png',\n",
    "#    'USS Texas': 'uss_texas.png',\n",
    "#    'ValkyrieL': 'valkyrie.png'\n",
    "#}\n",
    "\n",
    "def visualizematch(matchdata, background_image, imagefile):\n",
    "    spawn_xs = []\n",
    "    spawn_ys = []\n",
    "    death_xs = []\n",
    "    death_ys = []\n",
    "    for e in matchdata['events']:\n",
    "        if e['type'] == 'spawn':\n",
    "            spawn_ys.append(e['data']['pos']['y'])\n",
    "            spawn_xs.append(e['data']['pos']['x'])\n",
    "        if e['type'] == 'death':\n",
    "            death_ys.append(e['data']['pos']['y'])\n",
    "            death_xs.append(e['data']['pos']['x'])\n",
    "            \n",
    "#create figure\n",
    "    fig, ax = plt.subplots(1,1)\n",
    "    fig = Figure()\n",
    "    FigureCanvas(fig)\n",
    "    ax = fig.subplots(1,1)\n",
    "\n",
    "    fig.set_figheight(15)\n",
    "    fig.set_figwidth(15)\n",
    "\n",
    "#plot background\n",
    "    img = plt.imread(background_image)\n",
    "    ax.imshow(img)\n",
    "\n",
    "    ax.set_facecolor((210/255.0, 210/255.0, 210/255.0))\n",
    "#plot spawns and deaths\n",
    "    ax.scatter(spawn_xs, spawn_ys, color='cyan')\n",
    "    ax.scatter(death_xs, death_ys, color='red')\n",
    "    ax.set_title('{}({})'.format(matchdata['map'], matchdata['mode']))\n",
    "    fig.savefig(imagefile)\n",
    "\n",
    "\n",
    "\n",
    "import gc\n",
    "gc.collect()\n"
   ]
  },
  {
   "cell_type": "code",
   "execution_count": null,
   "metadata": {},
   "outputs": [],
   "source": [
    "import ujson\n",
    "\n",
    "maprootdir = os.path.join('..', 'week6', 'cwl-data', 'maps', 'ww2')\n",
    "\n",
    "map_images = {\n",
    "    'Aachen': 'aachen.png',\n",
    "    'Ardennes Forest': 'ardennes_forest.png',\n",
    "    'Gibraltar': 'gibraltar.png',\n",
    "    'London Docks': 'london_docks.png',\n",
    "    'Sainte Marie du Mont': 'sainte_marie_du_mont.png',\n",
    "    'USS Texas': 'uss_texas.png',\n",
    "    'ValkyrieL': 'valkyrie.png'\n",
    "}\n",
    "\n",
    "def parsejsonmatch(jsonfile, imagefile):\n",
    "    with open(jsonfile, 'r') as f:\n",
    "        rawdata = f.read()\n",
    "    data = ujson.loads(rawdata)\n",
    "    \n",
    "    mapname = data['map']\n",
    "    if mapname in map_images:\n",
    "        mapfilename = map_images[mapname]\n",
    "        background_image = os.path.join(maprootdir, mapfilename)\n",
    "        visualizematch(data, background_image, imagefile)\n",
    "    else:\n",
    "        print(\"Bad mapname encountered in {}\".format(jsonfile))"
   ]
  },
  {
   "cell_type": "code",
   "execution_count": null,
   "metadata": {},
   "outputs": [
    {
     "name": "stdout",
     "output_type": "stream",
     "text": [
      "Bad mapname encountered in structured-2018-04-01-birmingham/structured-1522535103-37481994-70da-5003-afa5-05987d20c558.json\n"
     ]
    },
    {
     "name": "stderr",
     "output_type": "stream",
     "text": [
      "/home/vagrant/miniconda3/envs/py37/lib/python3.7/site-packages/matplotlib/pyplot.py:514: RuntimeWarning: More than 20 figures have been opened. Figures created through the pyplot interface (`matplotlib.pyplot.figure`) are retained until explicitly closed and may consume too much memory. (To control this warning, see the rcParam `figure.max_open_warning`).\n",
      "  max_open_warning, RuntimeWarning)\n"
     ]
    },
    {
     "name": "stdout",
     "output_type": "stream",
     "text": [
      "Bad mapname encountered in structured-2018-04-01-birmingham/structured-1522440815-acd81c00-4d15-59e5-b145-47e15be5309b.json\n",
      "Bad mapname encountered in structured-2018-04-01-birmingham/structured-1522429248-1c7b04cf-e5a0-591b-aae5-7d4803110115.json\n",
      "Bad mapname encountered in structured-2018-04-01-birmingham/structured-1522523833-9c9120c5-34c9-5888-8aba-91c575bf0b42.json\n",
      "Bad mapname encountered in structured-2018-04-01-birmingham/structured-1522513858-085b5d2e-50ed-57f5-b4da-a19aa0b259df.json\n",
      "Bad mapname encountered in structured-2018-04-01-birmingham/structured-1522585377-ec824403-c843-53ed-8fc8-8fc637d45ab5.json\n",
      "Bad mapname encountered in structured-2018-04-01-birmingham/structured-1522525069-250a55d4-3c78-5564-8d50-d6e1e5ce0ed6.json\n",
      "Bad mapname encountered in structured-2018-04-01-birmingham/structured-1522612919-37be49dc-0b1d-5e71-b4f7-102bb6dde903.json\n",
      "Bad mapname encountered in structured-2018-04-01-birmingham/structured-1522577847-b6e451fc-8041-5599-83e1-617ac184caf8.json\n",
      "Bad mapname encountered in structured-2018-04-01-birmingham/structured-1522592315-121ad19e-617a-5695-ac18-d38f5307475c.json\n",
      "Bad mapname encountered in structured-2018-04-01-birmingham/structured-1522446525-9f9bb471-d10b-59c3-b973-924fdaf52ac1.json\n",
      "Bad mapname encountered in structured-2018-04-01-birmingham/structured-1522511273-b52923a5-a8c2-5ea8-84a6-7ea1a9f4cd1b.json\n",
      "Bad mapname encountered in structured-2018-04-01-birmingham/structured-1522580091-50259113-da32-5b3a-be6a-2bb61eaebe1b.json\n",
      "Bad mapname encountered in structured-2018-04-01-birmingham/structured-1522584208-eca960ed-a3c2-5e12-b819-29e6d13d64c5.json\n",
      "Bad mapname encountered in structured-2018-04-01-birmingham/structured-1522611837-bd7db5f2-71a3-5663-b7f5-3a322305b81e.json\n",
      "Bad mapname encountered in structured-2018-04-01-birmingham/structured-1522590768-0ac369cd-37c9-5083-84c8-38bfd85ec4df.json\n",
      "Bad mapname encountered in structured-2018-04-01-birmingham/structured-1522595890-8b552f1c-ed65-5859-bd4c-48e8ae255df0.json\n",
      "Bad mapname encountered in structured-2018-04-01-birmingham/structured-1522603737-da2b9833-5556-5dd4-8602-ef5002b27a87.json\n",
      "Bad mapname encountered in structured-2018-04-01-birmingham/structured-1522614285-025af23a-c5c3-5731-85db-e37ea21b850c.json\n",
      "Bad mapname encountered in structured-2018-04-01-birmingham/structured-1522518391-3f3859d1-c042-5737-a6c5-20b44c1dcca5.json\n",
      "Bad mapname encountered in structured-2018-04-01-birmingham/structured-1522604542-0dfd16e2-ffc9-5d93-ba28-ee708f9dfeaf.json\n",
      "Bad mapname encountered in structured-2018-04-01-birmingham/structured-1522531497-0b8b144e-53f3-5b41-b8a8-c728f65465e2.json\n",
      "Bad mapname encountered in structured-2018-04-01-birmingham/structured-1522435900-0878b988-5fab-52c8-a6a6-ce9045e18cda.json\n",
      "Bad mapname encountered in structured-2018-04-01-birmingham/structured-1522591327-fe06cf16-87e0-5fd4-9e91-83bd958a2f99.json\n",
      "Bad mapname encountered in structured-2018-04-01-birmingham/structured-1522609521-76aa618c-13b5-5987-b966-e0086dfaea21.json\n",
      "Bad mapname encountered in structured-2018-04-01-birmingham/structured-1522589806-bf25cac6-7e0c-5baa-b167-bc2e1441b420.json\n",
      "Bad mapname encountered in structured-2018-04-01-birmingham/structured-1522428434-042f1e83-73e9-5313-8e26-8c322872e2a6.json\n",
      "Bad mapname encountered in structured-2018-04-01-birmingham/structured-1522583065-24244de9-657f-564c-8d18-02619762d6d7.json\n",
      "Bad mapname encountered in structured-2018-04-01-birmingham/structured-1522603288-e4540efa-1836-5b65-890d-f84b6c728c27.json\n",
      "Bad mapname encountered in structured-2018-04-01-birmingham/structured-1522602554-9e759669-d54e-5ac9-b90a-9ec5618a5bcf.json\n",
      "Bad mapname encountered in structured-2018-04-01-birmingham/structured-1522515735-4eacf836-9e9e-5808-ad71-13a22abfb153.json\n",
      "Bad mapname encountered in structured-2018-04-01-birmingham/structured-1522523266-ee818597-fd5d-5c54-ac8d-93b1d476c6ac.json\n",
      "Bad mapname encountered in structured-2018-04-01-birmingham/structured-1522509308-52bfa832-d8d4-5df4-b2d5-a46cb500bc88.json\n",
      "Bad mapname encountered in structured-2018-04-01-birmingham/structured-1522606937-aee2b9ab-fe13-5e48-8ef8-6e57568f52ec.json\n",
      "Bad mapname encountered in structured-2018-04-01-birmingham/structured-1522591274-11ece8ee-93e2-51a8-a981-acf36116ed98.json\n",
      "Bad mapname encountered in structured-2018-04-01-birmingham/structured-1522508605-ebb823b9-6883-5049-bd2f-45c8c0bc9037.json\n",
      "Bad mapname encountered in structured-2018-04-01-birmingham/structured-1522534310-a670e753-23a1-53c6-946d-fee6717f3f30.json\n",
      "Bad mapname encountered in structured-2018-04-01-birmingham/structured-1522430651-7c76ccda-4ffc-5c74-b91e-4ef1d004eb8d.json\n",
      "Bad mapname encountered in structured-2018-04-01-birmingham/structured-1522585124-fcaed656-a96d-5ecf-b270-dc4c2d8b4063.json\n",
      "Bad mapname encountered in structured-2018-04-01-birmingham/structured-1522618372-7e532693-98e1-5b66-9351-3390ef388474.json\n",
      "Bad mapname encountered in structured-2018-01-14-neworleans/structured-1515900972-dc5c1079-faa7-5081-af99-ce29593eb261.json\n",
      "Bad mapname encountered in structured-2018-01-14-neworleans/structured-1515884056-281a8e50-1d4a-5a52-aae2-db68183a2f08.json\n",
      "Bad mapname encountered in structured-2018-01-14-neworleans/structured-1515888836-2109d63f-c6a1-5bcf-b1bf-710a9ae42ead.json\n",
      "Bad mapname encountered in structured-2018-01-14-neworleans/structured-1515948592-49e2149b-dc3c-571a-a6d1-915a7ba6843b.json\n",
      "Bad mapname encountered in structured-2018-01-14-neworleans/structured-1515885011-73c45aa9-a0b8-510e-95ac-5d14d40afae4.json\n",
      "Bad mapname encountered in structured-2018-01-14-neworleans/structured-1515901027-e5487eda-d2f6-5d08-b106-5f26dd33db28.json\n",
      "Bad mapname encountered in structured-2018-01-14-neworleans/structured-1515877248-172def7e-7582-53ee-89ee-2fccc436452c.json\n",
      "Bad mapname encountered in structured-2018-01-14-neworleans/structured-1515961073-153fcf6b-cd57-5271-b0c0-2c20de9d0e5b.json\n",
      "Bad mapname encountered in structured-2018-01-14-neworleans/structured-1515904767-4b84bb9a-51e8-5fe0-b6d4-f8c60674ea6c.json\n",
      "Bad mapname encountered in structured-2018-01-14-neworleans/structured-1515811645-2c8e4978-2875-5c73-9aad-b69131d9094d.json\n",
      "Bad mapname encountered in structured-2018-01-14-neworleans/structured-1515901195-3e25b7b7-b887-5a92-b5e9-1fe760070978.json\n",
      "Bad mapname encountered in structured-2018-01-14-neworleans/structured-1515899315-c35be074-c9f7-50de-8968-72c73c80f50e.json\n",
      "Bad mapname encountered in structured-2018-01-14-neworleans/structured-1515811371-b022de06-7e50-5e24-be6a-e9080fcf905d.json\n",
      "Bad mapname encountered in structured-2018-01-14-neworleans/structured-1515814911-8d34dd9a-a835-5b42-b502-4d5267953908.json\n",
      "Bad mapname encountered in structured-2018-01-14-neworleans/structured-1515965194-75834637-195a-5242-93bf-69ed90c5089f.json\n",
      "Bad mapname encountered in structured-2018-01-14-neworleans/structured-1515790372-97ff759d-014f-528b-96ec-a906dc0edb1f.json\n",
      "Bad mapname encountered in structured-2018-04-08-proleague1/structured-1521598290-f8898cb4-cd99-5083-9d23-4199baa63001.json\n",
      "Bad mapname encountered in structured-2018-04-08-proleague1/structured-1521078840-75781b8c-b9a5-5db8-ada9-1ea59a32b590.json\n",
      "Bad mapname encountered in structured-2018-04-08-proleague1/structured-1518577302-cfe6fa50-dba6-5b9b-974d-8201d59e7cf7.json\n",
      "Bad mapname encountered in structured-2018-04-08-proleague1/structured-1523058720-d903f8a1-e9ca-5065-ad35-b626db345dea.json\n",
      "Bad mapname encountered in structured-2018-04-08-proleague1/structured-1521581249-947601c5-7990-578c-8475-c131f640e775.json\n",
      "Bad mapname encountered in structured-2018-04-08-proleague1/structured-1519249127-3049c82e-d3d2-58f8-8f73-f9b833c84176.json\n",
      "Bad mapname encountered in structured-2018-04-08-proleague1/structured-1521230865-3282101b-2e49-5438-b3fe-81e1739aeb57.json\n",
      "Bad mapname encountered in structured-2018-04-08-proleague1/structured-1519178312-f6a667ad-9d86-5af2-9cf7-f3c968102c31.json\n",
      "Bad mapname encountered in structured-2018-04-08-proleague1/structured-1523140892-f073ea29-fd0a-5f72-ad92-73d4e7ef933e.json\n",
      "Bad mapname encountered in structured-2018-04-08-proleague1/structured-1516830328-964a1602-e8a7-5300-8c50-35bbc5619a93.json\n",
      "Bad mapname encountered in structured-2018-04-08-proleague1/structured-1521161225-f2b2b95a-789f-5738-8c53-f08bae380a92.json\n",
      "Bad mapname encountered in structured-2018-04-08-proleague1/structured-1521241437-f0f9e546-baa9-5337-b5c9-88ffb6564f1b.json\n"
     ]
    },
    {
     "name": "stdout",
     "output_type": "stream",
     "text": [
      "Bad mapname encountered in structured-2018-04-08-proleague1/structured-1521080864-a8faeb59-bbe0-5f04-91f1-fd6ab82fc9a6.json\n",
      "Bad mapname encountered in structured-2018-04-08-proleague1/structured-1523050085-31343249-4ff2-5406-9b15-dfa01f30cdba.json\n",
      "Bad mapname encountered in structured-2018-04-08-proleague1/structured-1519181933-e3024a20-3f36-53b4-8395-add135bceda9.json\n",
      "Bad mapname encountered in structured-2018-04-08-proleague1/structured-1519343702-0ae2b31b-af14-5ae0-8eee-5b515afecb7a.json\n",
      "Bad mapname encountered in structured-2018-04-08-proleague1/structured-1521147172-68ee68e5-7aa0-5278-b27f-440a9d6d40c0.json\n",
      "Bad mapname encountered in structured-2018-04-08-proleague1/structured-1521764053-0531ec89-2a1d-534b-8107-75b5585511f7.json\n",
      "Bad mapname encountered in structured-2018-04-08-proleague1/structured-1519867222-e563ee2d-f9c5-53db-8f97-498ac352c8e6.json\n",
      "Bad mapname encountered in structured-2018-04-08-proleague1/structured-1519254615-5ec5bca5-2228-5f49-8b29-485b14d27d28.json\n",
      "Bad mapname encountered in structured-2018-04-08-proleague1/structured-1519777469-7437ed4b-3d74-5cab-8450-7bf05bcaee03.json\n",
      "Bad mapname encountered in structured-2018-04-08-proleague1/structured-1518644770-517915b2-014e-5446-b29d-d4003429e4aa.json\n",
      "Bad mapname encountered in structured-2018-04-08-proleague1/structured-1516746027-13b087ae-f843-577e-aa89-5ba174649a41.json\n",
      "Bad mapname encountered in structured-2018-04-08-proleague1/structured-1523215069-50d4ebf7-5c2a-530f-b5d6-8c5b7d2b5a13.json\n",
      "Bad mapname encountered in structured-2018-04-08-proleague1/structured-1521756743-3ebcb281-a37d-5333-86aa-3157c5de9167.json\n",
      "Bad mapname encountered in structured-2018-04-08-proleague1/structured-1521685995-11206f6c-b8a1-5479-bc2e-6dae6be08a6b.json\n",
      "Bad mapname encountered in structured-2018-04-08-proleague1/structured-1519350025-c172ff17-b52e-5232-b23a-763a56d600a8.json\n",
      "Bad mapname encountered in structured-2018-04-08-proleague1/structured-1519249858-d9264762-28b6-5468-8117-979f6d551fe6.json\n",
      "Bad mapname encountered in structured-2018-04-08-proleague1/structured-1519340360-61ec46b6-1cf1-58e1-9cfe-1d7f6c6c2310.json\n",
      "Bad mapname encountered in structured-2018-04-08-proleague1/structured-1517521534-d4b2582d-b552-5e65-996c-31554ce29ec6.json\n",
      "Bad mapname encountered in structured-2018-04-08-proleague1/structured-1521685186-c0bfb7e4-2d2d-5661-9b8b-00e022453b5e.json\n",
      "Bad mapname encountered in structured-2018-04-08-proleague1/structured-1518655396-f1170a75-c56d-5d8d-9dc3-41c47a6943c4.json\n",
      "Bad mapname encountered in structured-2018-04-08-proleague1/structured-1517352658-d59a1c40-9f9b-593a-b22b-a1324a79c574.json\n",
      "Bad mapname encountered in structured-2018-04-08-proleague1/structured-1521579766-a6184366-3796-5a3d-9be6-927d6bb22121.json\n",
      "Bad mapname encountered in structured-2018-04-08-proleague1/structured-1523048359-d2e11862-c846-521f-b5d9-c2123241dfef.json\n"
     ]
    }
   ],
   "source": [
    "for datadir in datadirs:\n",
    "    imagedir = 'images_' + datadir\n",
    "    if not os.path.exists(imagedir):\n",
    "        os.mkdir(imagedir)\n",
    "    jsonfiles = glob(os.path.join(datadir, \"*.json\"))\n",
    "    for jsonfile in jsonfiles:\n",
    "        basename = os.path.basename(jsonfile)\n",
    "        noextension = os.path.splitext(basename)[0]\n",
    "        imagename = noextension + '.png'\n",
    "        imagefile = os.path.join(imagedir, imagename)\n",
    "        parsejsonmatch(jsonfile, imagefile)"
   ]
  },
  {
   "cell_type": "code",
   "execution_count": null,
   "metadata": {},
   "outputs": [],
   "source": []
  },
  {
   "cell_type": "code",
   "execution_count": null,
   "metadata": {},
   "outputs": [],
   "source": []
  }
 ],
 "metadata": {
  "kernelspec": {
   "display_name": "Python 3",
   "language": "python",
   "name": "python3"
  },
  "language_info": {
   "codemirror_mode": {
    "name": "ipython",
    "version": 3
   },
   "file_extension": ".py",
   "mimetype": "text/x-python",
   "name": "python",
   "nbconvert_exporter": "python",
   "pygments_lexer": "ipython3",
   "version": "3.7.2"
  }
 },
 "nbformat": 4,
 "nbformat_minor": 2
}
